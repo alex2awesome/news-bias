{
 "cells": [
  {
   "cell_type": "code",
   "execution_count": 117,
   "metadata": {},
   "outputs": [],
   "source": [
    "import re\n",
    "from urllib.parse import urlparse\n",
    "import pandas as pd \n",
    "import requests\n",
    "from bs4 import BeautifulSoup\n",
    "\n",
    "def get_page_link_from_mb(url):\n",
    "    res = requests.get(url)\n",
    "    soup = BeautifulSoup(res.text)\n",
    "    source_row = list(filter(lambda x: x.get_text().startswith('Source:'), soup.find_all('p')))\n",
    "    if len(source_row) == 0:\n",
    "        print('None found')\n",
    "        return url, res.text\n",
    "    if len(source_row) > 1:\n",
    "        print('>1 found')\n",
    "        return url, res.text\n",
    "    return url, source_row[0].get_text().replace('Source:', '').strip()"
   ]
  },
  {
   "cell_type": "markdown",
   "metadata": {},
   "source": [
    "# MediaBiasFactCheck"
   ]
  },
  {
   "cell_type": "code",
   "execution_count": 2,
   "metadata": {},
   "outputs": [],
   "source": [
    "res = requests.get('https://igniparoustempest.github.io/mediabiasfactcheck-bias')\n",
    "soup = BeautifulSoup(res.text)"
   ]
  },
  {
   "cell_type": "code",
   "execution_count": 3,
   "metadata": {},
   "outputs": [],
   "source": [
    "rows = soup.find('table').find_all('tr')\n",
    "header = list(map(lambda x: x.get_text(), rows[0].find_all('th')))\n",
    "data = []\n",
    "for r in rows[1:]:\n",
    "    datum = list(map(lambda x:\n",
    "                 x.get_text() if x.find('a') is None else x.find('a').attrs['href'], \n",
    "                 r.find_all('th')\n",
    "                )\n",
    "            )\n",
    "    data.append(datum)"
   ]
  },
  {
   "cell_type": "code",
   "execution_count": 4,
   "metadata": {},
   "outputs": [],
   "source": [
    "mediabias_df = pd.DataFrame(data, columns=header)"
   ]
  },
  {
   "cell_type": "code",
   "execution_count": 18,
   "metadata": {},
   "outputs": [],
   "source": [
    "from tqdm.auto import tqdm"
   ]
  },
  {
   "cell_type": "code",
   "execution_count": 43,
   "metadata": {
    "scrolled": true
   },
   "outputs": [
    {
     "data": {
      "application/vnd.jupyter.widget-view+json": {
       "model_id": "c1c87b59cbc7496da98650243ec9d3b5",
       "version_major": 2,
       "version_minor": 0
      },
      "text/plain": [
       "  0%|          | 0/2138 [00:00<?, ?it/s]"
      ]
     },
     "metadata": {},
     "output_type": "display_data"
    },
    {
     "name": "stdout",
     "output_type": "stream",
     "text": [
      "None found\n",
      "None found\n",
      "None found\n",
      "None found\n",
      "None found\n",
      "None found\n",
      ">1 found\n",
      "None found\n",
      "None found\n",
      "None found\n",
      "None found\n",
      "None found\n",
      "None found\n",
      "None found\n"
     ]
    }
   ],
   "source": [
    "from concurrent.futures import ThreadPoolExecutor\n",
    "\n",
    "# results = {}\n",
    "with ThreadPoolExecutor(max_workers=10) as executor:\n",
    "    for url, res in tqdm(executor.map(\n",
    "        get_page_link_from_mb, \n",
    "#         mediabias_df['Page Link'].tolist()\n",
    "        to_get.tolist()\n",
    "    ), total=len(mediabias_df)):\n",
    "        results[url] = res"
   ]
  },
  {
   "cell_type": "code",
   "execution_count": 44,
   "metadata": {},
   "outputs": [],
   "source": [
    "link_df = pd.Series(results).to_frame('page_url')"
   ]
  },
  {
   "cell_type": "code",
   "execution_count": 53,
   "metadata": {},
   "outputs": [],
   "source": [
    "mediabias_df = mediabias_df.merge(link_df, right_index=True, left_on='Page Link')"
   ]
  },
  {
   "cell_type": "code",
   "execution_count": 58,
   "metadata": {},
   "outputs": [],
   "source": [
    "mediabias_df= mediabias_df.drop(['Left-Right Spectrum Image', ] ,axis=1)"
   ]
  },
  {
   "cell_type": "code",
   "execution_count": 59,
   "metadata": {},
   "outputs": [],
   "source": [
    "mediabias_df.to_csv('../data/mediabias-fact-check.csv')"
   ]
  },
  {
   "cell_type": "code",
   "execution_count": 61,
   "metadata": {},
   "outputs": [
    {
     "data": {
      "text/html": [
       "<div>\n",
       "<style scoped>\n",
       "    .dataframe tbody tr th:only-of-type {\n",
       "        vertical-align: middle;\n",
       "    }\n",
       "\n",
       "    .dataframe tbody tr th {\n",
       "        vertical-align: top;\n",
       "    }\n",
       "\n",
       "    .dataframe thead th {\n",
       "        text-align: right;\n",
       "    }\n",
       "</style>\n",
       "<table border=\"1\" class=\"dataframe\">\n",
       "  <thead>\n",
       "    <tr style=\"text-align: right;\">\n",
       "      <th></th>\n",
       "      <th>Name</th>\n",
       "      <th>Factual Reporting</th>\n",
       "      <th>Bias</th>\n",
       "      <th>Estimated Bias Value</th>\n",
       "      <th>Page Link</th>\n",
       "      <th>page_url</th>\n",
       "    </tr>\n",
       "  </thead>\n",
       "  <tbody>\n",
       "    <tr>\n",
       "      <th>0</th>\n",
       "      <td>10News.one</td>\n",
       "      <td>QUESTIONABLE</td>\n",
       "      <td>Extreme Right</td>\n",
       "      <td>46</td>\n",
       "      <td>https://mediabiasfactcheck.com/10news-one/</td>\n",
       "      <td>https://www.10news.one/</td>\n",
       "    </tr>\n",
       "    <tr>\n",
       "      <th>1</th>\n",
       "      <td>24 News</td>\n",
       "      <td>QUESTIONABLE</td>\n",
       "      <td>Extreme Right</td>\n",
       "      <td>43</td>\n",
       "      <td>https://mediabiasfactcheck.com/24-news/</td>\n",
       "      <td>http://us24news.com</td>\n",
       "    </tr>\n",
       "    <tr>\n",
       "      <th>2</th>\n",
       "      <td>100 Percent Fed Up</td>\n",
       "      <td>QUESTIONABLE</td>\n",
       "      <td>Extreme Right</td>\n",
       "      <td>44</td>\n",
       "      <td>http://mediabiasfactcheck.com/100-percent-fed-up/</td>\n",
       "      <td>https://100percentfedup.com/</td>\n",
       "    </tr>\n",
       "    <tr>\n",
       "      <th>3</th>\n",
       "      <td>247 News Media</td>\n",
       "      <td>QUESTIONABLE</td>\n",
       "      <td>Extreme Right</td>\n",
       "      <td>46</td>\n",
       "      <td>http://mediabiasfactcheck.com/247-news-media/</td>\n",
       "      <td>http://247newsmedia.com/</td>\n",
       "    </tr>\n",
       "    <tr>\n",
       "      <th>4</th>\n",
       "      <td>70 News (Fake)</td>\n",
       "      <td>QUESTIONABLE</td>\n",
       "      <td>Extreme Right</td>\n",
       "      <td>45</td>\n",
       "      <td>https://mediabiasfactcheck.com/70-news/</td>\n",
       "      <td>https://70news.wordpress.com/</td>\n",
       "    </tr>\n",
       "    <tr>\n",
       "      <th>5</th>\n",
       "      <td>Activist Mommy</td>\n",
       "      <td>QUESTIONABLE</td>\n",
       "      <td>Extreme Right</td>\n",
       "      <td>46</td>\n",
       "      <td>https://mediabiasfactcheck.com/activist-mommy/</td>\n",
       "      <td>https://elizabethjohnston.org/</td>\n",
       "    </tr>\n",
       "    <tr>\n",
       "      <th>6</th>\n",
       "      <td>Age of Shitlords</td>\n",
       "      <td>QUESTIONABLE</td>\n",
       "      <td>Right</td>\n",
       "      <td>39</td>\n",
       "      <td>http://mediabiasfactcheck.com/age-of-shitlords/</td>\n",
       "      <td>https://ageofshitlords.com/</td>\n",
       "    </tr>\n",
       "    <tr>\n",
       "      <th>7</th>\n",
       "      <td>Alpha News</td>\n",
       "      <td>QUESTIONABLE</td>\n",
       "      <td>Extreme Right</td>\n",
       "      <td>43</td>\n",
       "      <td>https://mediabiasfactcheck.com/alpha-news/</td>\n",
       "      <td>https://alphanews.org/</td>\n",
       "    </tr>\n",
       "    <tr>\n",
       "      <th>8</th>\n",
       "      <td>Allen West Republic</td>\n",
       "      <td>QUESTIONABLE</td>\n",
       "      <td>Extreme Right</td>\n",
       "      <td>45</td>\n",
       "      <td>http://mediabiasfactcheck.com/allen-west-repub...</td>\n",
       "      <td>http://allenwestrepublic.com/</td>\n",
       "    </tr>\n",
       "    <tr>\n",
       "      <th>9</th>\n",
       "      <td>Alliance Defending Freedom</td>\n",
       "      <td>QUESTIONABLE</td>\n",
       "      <td>Extreme Right</td>\n",
       "      <td>45</td>\n",
       "      <td>https://mediabiasfactcheck.com/alliance-defend...</td>\n",
       "      <td>https://www.adflegal.org/</td>\n",
       "    </tr>\n",
       "  </tbody>\n",
       "</table>\n",
       "</div>"
      ],
      "text/plain": [
       "                         Name Factual Reporting           Bias  \\\n",
       "0                  10News.one      QUESTIONABLE  Extreme Right   \n",
       "1                     24 News      QUESTIONABLE  Extreme Right   \n",
       "2          100 Percent Fed Up      QUESTIONABLE  Extreme Right   \n",
       "3              247 News Media      QUESTIONABLE  Extreme Right   \n",
       "4              70 News (Fake)      QUESTIONABLE  Extreme Right   \n",
       "5              Activist Mommy      QUESTIONABLE  Extreme Right   \n",
       "6            Age of Shitlords      QUESTIONABLE          Right   \n",
       "7                  Alpha News      QUESTIONABLE  Extreme Right   \n",
       "8         Allen West Republic      QUESTIONABLE  Extreme Right   \n",
       "9  Alliance Defending Freedom      QUESTIONABLE  Extreme Right   \n",
       "\n",
       "  Estimated Bias Value                                          Page Link  \\\n",
       "0                   46         https://mediabiasfactcheck.com/10news-one/   \n",
       "1                   43            https://mediabiasfactcheck.com/24-news/   \n",
       "2                   44  http://mediabiasfactcheck.com/100-percent-fed-up/   \n",
       "3                   46      http://mediabiasfactcheck.com/247-news-media/   \n",
       "4                   45            https://mediabiasfactcheck.com/70-news/   \n",
       "5                   46     https://mediabiasfactcheck.com/activist-mommy/   \n",
       "6                   39    http://mediabiasfactcheck.com/age-of-shitlords/   \n",
       "7                   43         https://mediabiasfactcheck.com/alpha-news/   \n",
       "8                   45  http://mediabiasfactcheck.com/allen-west-repub...   \n",
       "9                   45  https://mediabiasfactcheck.com/alliance-defend...   \n",
       "\n",
       "                         page_url  \n",
       "0         https://www.10news.one/  \n",
       "1             http://us24news.com  \n",
       "2    https://100percentfedup.com/  \n",
       "3        http://247newsmedia.com/  \n",
       "4   https://70news.wordpress.com/  \n",
       "5  https://elizabethjohnston.org/  \n",
       "6     https://ageofshitlords.com/  \n",
       "7          https://alphanews.org/  \n",
       "8   http://allenwestrepublic.com/  \n",
       "9       https://www.adflegal.org/  "
      ]
     },
     "execution_count": 61,
     "metadata": {},
     "output_type": "execute_result"
    }
   ],
   "source": [
    "mediabias_df.head(10)"
   ]
  },
  {
   "cell_type": "code",
   "execution_count": 148,
   "metadata": {},
   "outputs": [
    {
     "data": {
      "text/plain": [
       "(2138, 7)"
      ]
     },
     "execution_count": 148,
     "metadata": {},
     "output_type": "execute_result"
    }
   ],
   "source": [
    "mediabias_df.shape "
   ]
  },
  {
   "cell_type": "code",
   "execution_count": null,
   "metadata": {},
   "outputs": [],
   "source": [
    "mediabias_df['page_domain'] = mediabias_df['page_url'].apply(lambda x: urlparse(x).netloc)"
   ]
  },
  {
   "cell_type": "markdown",
   "metadata": {},
   "source": [
    "# Analyze Headlines"
   ]
  },
  {
   "cell_type": "code",
   "execution_count": 82,
   "metadata": {},
   "outputs": [],
   "source": [
    "webarchive_pattern = 'http\\:\\/\\/web\\.archive\\.org\\/web\\/\\d{14}\\/'\n",
    "article_ids = pd.read_csv('../data/multi-news-code-and-ids/data/inputs.txt', sep='\\t', header=None)\n",
    "article_ids.columns=['webarchive_url', 'id']"
   ]
  },
  {
   "cell_type": "code",
   "execution_count": 84,
   "metadata": {},
   "outputs": [],
   "source": [
    "urls = article_ids['webarchive_url'].apply(lambda x: re.sub(webarchive_pattern, '', x))"
   ]
  },
  {
   "cell_type": "code",
   "execution_count": 150,
   "metadata": {},
   "outputs": [
    {
     "data": {
      "text/plain": [
       "(267250,)"
      ]
     },
     "execution_count": 150,
     "metadata": {},
     "output_type": "execute_result"
    }
   ],
   "source": [
    "urls.shape "
   ]
  },
  {
   "cell_type": "code",
   "execution_count": 151,
   "metadata": {},
   "outputs": [
    {
     "data": {
      "text/plain": [
       "0    http://www.washingtonpost.com/world/national-s...\n",
       "1    http://www.newser.com/story/136936/iran-to-kil...\n",
       "2    http://www.newser.com:80/story/220059/authorit...\n",
       "3    http://www.newser.com/story/59853/pope-benedic...\n",
       "4    https://www.adn.com/alaska-news/2017/06/19/rea...\n",
       "Name: webarchive_url, dtype: object"
      ]
     },
     "execution_count": 151,
     "metadata": {},
     "output_type": "execute_result"
    }
   ],
   "source": [
    "urls.head()"
   ]
  },
  {
   "cell_type": "code",
   "execution_count": 89,
   "metadata": {},
   "outputs": [
    {
     "data": {
      "text/html": [
       "<div>\n",
       "<style scoped>\n",
       "    .dataframe tbody tr th:only-of-type {\n",
       "        vertical-align: middle;\n",
       "    }\n",
       "\n",
       "    .dataframe tbody tr th {\n",
       "        vertical-align: top;\n",
       "    }\n",
       "\n",
       "    .dataframe thead th {\n",
       "        text-align: right;\n",
       "    }\n",
       "</style>\n",
       "<table border=\"1\" class=\"dataframe\">\n",
       "  <thead>\n",
       "    <tr style=\"text-align: right;\">\n",
       "      <th></th>\n",
       "      <th>Name</th>\n",
       "      <th>Factual Reporting</th>\n",
       "      <th>Bias</th>\n",
       "      <th>Estimated Bias Value</th>\n",
       "      <th>Page Link</th>\n",
       "      <th>page_url</th>\n",
       "    </tr>\n",
       "  </thead>\n",
       "  <tbody>\n",
       "    <tr>\n",
       "      <th>1039</th>\n",
       "      <td>Newser</td>\n",
       "      <td>HIGH</td>\n",
       "      <td>Left Centre</td>\n",
       "      <td>-12</td>\n",
       "      <td>https://mediabiasfactcheck.com/newser/</td>\n",
       "      <td>https://www.newser.com/</td>\n",
       "    </tr>\n",
       "  </tbody>\n",
       "</table>\n",
       "</div>"
      ],
      "text/plain": [
       "        Name Factual Reporting         Bias Estimated Bias Value  \\\n",
       "1039  Newser              HIGH  Left Centre                  -12   \n",
       "\n",
       "                                   Page Link                 page_url  \n",
       "1039  https://mediabiasfactcheck.com/newser/  https://www.newser.com/  "
      ]
     },
     "execution_count": 89,
     "metadata": {},
     "output_type": "execute_result"
    }
   ],
   "source": [
    "mediabias_df.loc[lambda df: df['Name'].str.contains('Newser')]"
   ]
  },
  {
   "cell_type": "code",
   "execution_count": 115,
   "metadata": {},
   "outputs": [],
   "source": [
    "url_domains = urls.apply(lambda x: urlparse(x).netloc)"
   ]
  },
  {
   "cell_type": "code",
   "execution_count": 116,
   "metadata": {},
   "outputs": [],
   "source": [
    "url_domains = url_domains.str.replace('\\:\\d+', '', regex=True)"
   ]
  },
  {
   "cell_type": "code",
   "execution_count": 118,
   "metadata": {},
   "outputs": [],
   "source": [
    "url_domains_with_mediabias = (url_domains\n",
    " .to_frame('article_domain')\n",
    " .merge(mediabias_df, left_on='article_domain', right_on='page_domain', how='left')\n",
    ")"
   ]
  },
  {
   "cell_type": "code",
   "execution_count": 135,
   "metadata": {},
   "outputs": [
    {
     "data": {
      "image/png": "[encoded data removed]",
      "text/plain": [
       "<Figure size 144x288 with 1 Axes>"
      ]
     },
     "metadata": {
      "needs_background": "light"
     },
     "output_type": "display_data"
    }
   ],
   "source": [
    "import matplotlib.pyplot as plt\n",
    "plt.rc('font', size=14)\n",
    "\n",
    "ax = (\n",
    "    url_domains_with_mediabias['Bias']\n",
    "    .value_counts()\n",
    "    .iloc[::-1]\n",
    "    .plot(kind='barh', figsize=(2,4))\n",
    ")\n",
    "ax.spines['right'].set_visible(False)\n",
    "ax.spines['top'].set_visible(False)"
   ]
  },
  {
   "cell_type": "code",
   "execution_count": 146,
   "metadata": {},
   "outputs": [
    {
     "data": {
      "image/png": "[encoded data removed]",
      "text/plain": [
       "<Figure size 144x288 with 1 Axes>"
      ]
     },
     "metadata": {
      "needs_background": "light"
     },
     "output_type": "display_data"
    }
   ],
   "source": [
    "top_k = 12\n",
    "ax = (   url_domains_with_mediabias['article_domain']\n",
    "        .value_counts()\n",
    "        .pipe(lambda s: pd.concat([s[:top_k], pd.Series({'Other': s[top_k:].sum()})]))\n",
    "        .iloc[::-1]\n",
    "        .plot(kind='barh', figsize=(2,4))\n",
    "\n",
    ")\n",
    "ax.spines['right'].set_visible(False)\n",
    "ax.spines['top'].set_visible(False)"
   ]
  },
  {
   "cell_type": "code",
   "execution_count": 147,
   "metadata": {},
   "outputs": [
    {
     "data": {
      "image/png": "[encoded data removed]",
      "text/plain": [
       "<Figure size 144x288 with 1 Axes>"
      ]
     },
     "metadata": {
      "needs_background": "light"
     },
     "output_type": "display_data"
    }
   ],
   "source": [
    "ax = (\n",
    "    url_domains_with_mediabias['Factual Reporting']\n",
    "    .value_counts()\n",
    "    .iloc[::-1]\n",
    "    .plot(kind='barh', figsize=(2,4))\n",
    ")\n",
    "ax.spines['right'].set_visible(False)\n",
    "ax.spines['top'].set_visible(False)"
   ]
  },
  {
   "cell_type": "code",
   "execution_count": null,
   "metadata": {},
   "outputs": [],
   "source": []
  }
 ],
 "metadata": {
  "hide_input": false,
  "kernelspec": {
   "display_name": "Python 3",
   "language": "python",
   "name": "python3"
  },
  "language_info": {
   "codemirror_mode": {
    "name": "ipython",
    "version": 3
   },
   "file_extension": ".py",
   "mimetype": "text/x-python",
   "name": "python",
   "nbconvert_exporter": "python",
   "pygments_lexer": "ipython3",
   "version": "3.7.6"
  }
 },
 "nbformat": 4,
 "nbformat_minor": 4
}
